{
 "cells": [
  {
   "cell_type": "code",
   "execution_count": 1,
   "id": "596ef878",
   "metadata": {},
   "outputs": [],
   "source": [
    "# Importing required packages\n",
    "import numpy as np\n",
    "import pandas as pd"
   ]
  },
  {
   "cell_type": "code",
   "execution_count": 2,
   "id": "cbad85a6",
   "metadata": {},
   "outputs": [
    {
     "data": {
      "text/html": [
       "<div>\n",
       "<style scoped>\n",
       "    .dataframe tbody tr th:only-of-type {\n",
       "        vertical-align: middle;\n",
       "    }\n",
       "\n",
       "    .dataframe tbody tr th {\n",
       "        vertical-align: top;\n",
       "    }\n",
       "\n",
       "    .dataframe thead th {\n",
       "        text-align: right;\n",
       "    }\n",
       "</style>\n",
       "<table border=\"1\" class=\"dataframe\">\n",
       "  <thead>\n",
       "    <tr style=\"text-align: right;\">\n",
       "      <th></th>\n",
       "      <th>A1_Score</th>\n",
       "      <th>A2_Score</th>\n",
       "      <th>A3_Score</th>\n",
       "      <th>A4_Score</th>\n",
       "      <th>A5_Score</th>\n",
       "      <th>A6_Score</th>\n",
       "      <th>A7_Score</th>\n",
       "      <th>A8_Score</th>\n",
       "      <th>A9_Score</th>\n",
       "      <th>A10_Score</th>\n",
       "      <th>age</th>\n",
       "      <th>gender</th>\n",
       "      <th>race</th>\n",
       "      <th>born_with_jaundice</th>\n",
       "      <th>family_members_austim</th>\n",
       "      <th>country_of_res</th>\n",
       "      <th>used_app_before</th>\n",
       "      <th>scores</th>\n",
       "      <th>relation</th>\n",
       "      <th>autism</th>\n",
       "    </tr>\n",
       "  </thead>\n",
       "  <tbody>\n",
       "    <tr>\n",
       "      <th>0</th>\n",
       "      <td>1</td>\n",
       "      <td>1</td>\n",
       "      <td>1</td>\n",
       "      <td>1</td>\n",
       "      <td>0</td>\n",
       "      <td>0</td>\n",
       "      <td>1</td>\n",
       "      <td>1</td>\n",
       "      <td>0</td>\n",
       "      <td>0</td>\n",
       "      <td>26.0</td>\n",
       "      <td>f</td>\n",
       "      <td>White-European</td>\n",
       "      <td>no</td>\n",
       "      <td>no</td>\n",
       "      <td>United States</td>\n",
       "      <td>no</td>\n",
       "      <td>6</td>\n",
       "      <td>Self</td>\n",
       "      <td>NO</td>\n",
       "    </tr>\n",
       "    <tr>\n",
       "      <th>1</th>\n",
       "      <td>1</td>\n",
       "      <td>1</td>\n",
       "      <td>0</td>\n",
       "      <td>1</td>\n",
       "      <td>0</td>\n",
       "      <td>0</td>\n",
       "      <td>0</td>\n",
       "      <td>1</td>\n",
       "      <td>0</td>\n",
       "      <td>1</td>\n",
       "      <td>24.0</td>\n",
       "      <td>m</td>\n",
       "      <td>Latino</td>\n",
       "      <td>no</td>\n",
       "      <td>yes</td>\n",
       "      <td>Brazil</td>\n",
       "      <td>no</td>\n",
       "      <td>5</td>\n",
       "      <td>Self</td>\n",
       "      <td>NO</td>\n",
       "    </tr>\n",
       "    <tr>\n",
       "      <th>2</th>\n",
       "      <td>1</td>\n",
       "      <td>1</td>\n",
       "      <td>0</td>\n",
       "      <td>1</td>\n",
       "      <td>1</td>\n",
       "      <td>0</td>\n",
       "      <td>1</td>\n",
       "      <td>1</td>\n",
       "      <td>1</td>\n",
       "      <td>1</td>\n",
       "      <td>27.0</td>\n",
       "      <td>m</td>\n",
       "      <td>Latino</td>\n",
       "      <td>yes</td>\n",
       "      <td>yes</td>\n",
       "      <td>Spain</td>\n",
       "      <td>no</td>\n",
       "      <td>8</td>\n",
       "      <td>Parent</td>\n",
       "      <td>YES</td>\n",
       "    </tr>\n",
       "    <tr>\n",
       "      <th>3</th>\n",
       "      <td>1</td>\n",
       "      <td>1</td>\n",
       "      <td>0</td>\n",
       "      <td>1</td>\n",
       "      <td>0</td>\n",
       "      <td>0</td>\n",
       "      <td>1</td>\n",
       "      <td>1</td>\n",
       "      <td>0</td>\n",
       "      <td>1</td>\n",
       "      <td>35.0</td>\n",
       "      <td>f</td>\n",
       "      <td>White-European</td>\n",
       "      <td>no</td>\n",
       "      <td>yes</td>\n",
       "      <td>United States</td>\n",
       "      <td>no</td>\n",
       "      <td>6</td>\n",
       "      <td>Self</td>\n",
       "      <td>NO</td>\n",
       "    </tr>\n",
       "    <tr>\n",
       "      <th>4</th>\n",
       "      <td>1</td>\n",
       "      <td>0</td>\n",
       "      <td>0</td>\n",
       "      <td>0</td>\n",
       "      <td>0</td>\n",
       "      <td>0</td>\n",
       "      <td>0</td>\n",
       "      <td>1</td>\n",
       "      <td>0</td>\n",
       "      <td>0</td>\n",
       "      <td>40.0</td>\n",
       "      <td>f</td>\n",
       "      <td>?</td>\n",
       "      <td>no</td>\n",
       "      <td>no</td>\n",
       "      <td>Egypt</td>\n",
       "      <td>no</td>\n",
       "      <td>2</td>\n",
       "      <td>?</td>\n",
       "      <td>NO</td>\n",
       "    </tr>\n",
       "  </tbody>\n",
       "</table>\n",
       "</div>"
      ],
      "text/plain": [
       "   A1_Score  A2_Score  A3_Score  A4_Score  A5_Score  A6_Score  A7_Score  \\\n",
       "0         1         1         1         1         0         0         1   \n",
       "1         1         1         0         1         0         0         0   \n",
       "2         1         1         0         1         1         0         1   \n",
       "3         1         1         0         1         0         0         1   \n",
       "4         1         0         0         0         0         0         0   \n",
       "\n",
       "   A8_Score  A9_Score  A10_Score   age gender            race  \\\n",
       "0         1         0          0  26.0      f  White-European   \n",
       "1         1         0          1  24.0      m          Latino   \n",
       "2         1         1          1  27.0      m          Latino   \n",
       "3         1         0          1  35.0      f  White-European   \n",
       "4         1         0          0  40.0      f               ?   \n",
       "\n",
       "  born_with_jaundice family_members_austim country_of_res used_app_before  \\\n",
       "0                 no                    no  United States              no   \n",
       "1                 no                   yes         Brazil              no   \n",
       "2                yes                   yes          Spain              no   \n",
       "3                 no                   yes  United States              no   \n",
       "4                 no                    no          Egypt              no   \n",
       "\n",
       "   scores relation autism  \n",
       "0       6     Self     NO  \n",
       "1       5     Self     NO  \n",
       "2       8   Parent    YES  \n",
       "3       6     Self     NO  \n",
       "4       2        ?     NO  "
      ]
     },
     "execution_count": 2,
     "metadata": {},
     "output_type": "execute_result"
    }
   ],
   "source": [
    "# Importing Data Set\n",
    "df=pd.read_csv('autism_screening.csv')\n",
    "df.head()"
   ]
  },
  {
   "cell_type": "code",
   "execution_count": 3,
   "id": "6f139c93",
   "metadata": {},
   "outputs": [
    {
     "data": {
      "text/plain": [
       "(704, 20)"
      ]
     },
     "execution_count": 3,
     "metadata": {},
     "output_type": "execute_result"
    }
   ],
   "source": [
    "df.shape"
   ]
  },
  {
   "cell_type": "code",
   "execution_count": 4,
   "id": "689bdf9a",
   "metadata": {},
   "outputs": [
    {
     "data": {
      "text/html": [
       "<div>\n",
       "<style scoped>\n",
       "    .dataframe tbody tr th:only-of-type {\n",
       "        vertical-align: middle;\n",
       "    }\n",
       "\n",
       "    .dataframe tbody tr th {\n",
       "        vertical-align: top;\n",
       "    }\n",
       "\n",
       "    .dataframe thead th {\n",
       "        text-align: right;\n",
       "    }\n",
       "</style>\n",
       "<table border=\"1\" class=\"dataframe\">\n",
       "  <thead>\n",
       "    <tr style=\"text-align: right;\">\n",
       "      <th></th>\n",
       "      <th>A1_Score</th>\n",
       "      <th>A2_Score</th>\n",
       "      <th>A3_Score</th>\n",
       "      <th>A4_Score</th>\n",
       "      <th>A5_Score</th>\n",
       "      <th>A6_Score</th>\n",
       "      <th>A7_Score</th>\n",
       "      <th>A8_Score</th>\n",
       "      <th>A9_Score</th>\n",
       "      <th>A10_Score</th>\n",
       "      <th>age</th>\n",
       "      <th>scores</th>\n",
       "    </tr>\n",
       "  </thead>\n",
       "  <tbody>\n",
       "    <tr>\n",
       "      <th>count</th>\n",
       "      <td>704.000000</td>\n",
       "      <td>704.000000</td>\n",
       "      <td>704.000000</td>\n",
       "      <td>704.000000</td>\n",
       "      <td>704.000000</td>\n",
       "      <td>704.000000</td>\n",
       "      <td>704.000000</td>\n",
       "      <td>704.000000</td>\n",
       "      <td>704.000000</td>\n",
       "      <td>704.000000</td>\n",
       "      <td>702.000000</td>\n",
       "      <td>704.000000</td>\n",
       "    </tr>\n",
       "    <tr>\n",
       "      <th>mean</th>\n",
       "      <td>0.721591</td>\n",
       "      <td>0.453125</td>\n",
       "      <td>0.457386</td>\n",
       "      <td>0.495739</td>\n",
       "      <td>0.498580</td>\n",
       "      <td>0.284091</td>\n",
       "      <td>0.417614</td>\n",
       "      <td>0.649148</td>\n",
       "      <td>0.323864</td>\n",
       "      <td>0.573864</td>\n",
       "      <td>29.698006</td>\n",
       "      <td>4.875000</td>\n",
       "    </tr>\n",
       "    <tr>\n",
       "      <th>std</th>\n",
       "      <td>0.448535</td>\n",
       "      <td>0.498152</td>\n",
       "      <td>0.498535</td>\n",
       "      <td>0.500337</td>\n",
       "      <td>0.500353</td>\n",
       "      <td>0.451301</td>\n",
       "      <td>0.493516</td>\n",
       "      <td>0.477576</td>\n",
       "      <td>0.468281</td>\n",
       "      <td>0.494866</td>\n",
       "      <td>16.507465</td>\n",
       "      <td>2.501493</td>\n",
       "    </tr>\n",
       "    <tr>\n",
       "      <th>min</th>\n",
       "      <td>0.000000</td>\n",
       "      <td>0.000000</td>\n",
       "      <td>0.000000</td>\n",
       "      <td>0.000000</td>\n",
       "      <td>0.000000</td>\n",
       "      <td>0.000000</td>\n",
       "      <td>0.000000</td>\n",
       "      <td>0.000000</td>\n",
       "      <td>0.000000</td>\n",
       "      <td>0.000000</td>\n",
       "      <td>17.000000</td>\n",
       "      <td>0.000000</td>\n",
       "    </tr>\n",
       "    <tr>\n",
       "      <th>25%</th>\n",
       "      <td>0.000000</td>\n",
       "      <td>0.000000</td>\n",
       "      <td>0.000000</td>\n",
       "      <td>0.000000</td>\n",
       "      <td>0.000000</td>\n",
       "      <td>0.000000</td>\n",
       "      <td>0.000000</td>\n",
       "      <td>0.000000</td>\n",
       "      <td>0.000000</td>\n",
       "      <td>0.000000</td>\n",
       "      <td>21.000000</td>\n",
       "      <td>3.000000</td>\n",
       "    </tr>\n",
       "    <tr>\n",
       "      <th>50%</th>\n",
       "      <td>1.000000</td>\n",
       "      <td>0.000000</td>\n",
       "      <td>0.000000</td>\n",
       "      <td>0.000000</td>\n",
       "      <td>0.000000</td>\n",
       "      <td>0.000000</td>\n",
       "      <td>0.000000</td>\n",
       "      <td>1.000000</td>\n",
       "      <td>0.000000</td>\n",
       "      <td>1.000000</td>\n",
       "      <td>27.000000</td>\n",
       "      <td>4.000000</td>\n",
       "    </tr>\n",
       "    <tr>\n",
       "      <th>75%</th>\n",
       "      <td>1.000000</td>\n",
       "      <td>1.000000</td>\n",
       "      <td>1.000000</td>\n",
       "      <td>1.000000</td>\n",
       "      <td>1.000000</td>\n",
       "      <td>1.000000</td>\n",
       "      <td>1.000000</td>\n",
       "      <td>1.000000</td>\n",
       "      <td>1.000000</td>\n",
       "      <td>1.000000</td>\n",
       "      <td>35.000000</td>\n",
       "      <td>7.000000</td>\n",
       "    </tr>\n",
       "    <tr>\n",
       "      <th>max</th>\n",
       "      <td>1.000000</td>\n",
       "      <td>1.000000</td>\n",
       "      <td>1.000000</td>\n",
       "      <td>1.000000</td>\n",
       "      <td>1.000000</td>\n",
       "      <td>1.000000</td>\n",
       "      <td>1.000000</td>\n",
       "      <td>1.000000</td>\n",
       "      <td>1.000000</td>\n",
       "      <td>1.000000</td>\n",
       "      <td>383.000000</td>\n",
       "      <td>10.000000</td>\n",
       "    </tr>\n",
       "  </tbody>\n",
       "</table>\n",
       "</div>"
      ],
      "text/plain": [
       "         A1_Score    A2_Score    A3_Score    A4_Score    A5_Score    A6_Score  \\\n",
       "count  704.000000  704.000000  704.000000  704.000000  704.000000  704.000000   \n",
       "mean     0.721591    0.453125    0.457386    0.495739    0.498580    0.284091   \n",
       "std      0.448535    0.498152    0.498535    0.500337    0.500353    0.451301   \n",
       "min      0.000000    0.000000    0.000000    0.000000    0.000000    0.000000   \n",
       "25%      0.000000    0.000000    0.000000    0.000000    0.000000    0.000000   \n",
       "50%      1.000000    0.000000    0.000000    0.000000    0.000000    0.000000   \n",
       "75%      1.000000    1.000000    1.000000    1.000000    1.000000    1.000000   \n",
       "max      1.000000    1.000000    1.000000    1.000000    1.000000    1.000000   \n",
       "\n",
       "         A7_Score    A8_Score    A9_Score   A10_Score         age      scores  \n",
       "count  704.000000  704.000000  704.000000  704.000000  702.000000  704.000000  \n",
       "mean     0.417614    0.649148    0.323864    0.573864   29.698006    4.875000  \n",
       "std      0.493516    0.477576    0.468281    0.494866   16.507465    2.501493  \n",
       "min      0.000000    0.000000    0.000000    0.000000   17.000000    0.000000  \n",
       "25%      0.000000    0.000000    0.000000    0.000000   21.000000    3.000000  \n",
       "50%      0.000000    1.000000    0.000000    1.000000   27.000000    4.000000  \n",
       "75%      1.000000    1.000000    1.000000    1.000000   35.000000    7.000000  \n",
       "max      1.000000    1.000000    1.000000    1.000000  383.000000   10.000000  "
      ]
     },
     "execution_count": 4,
     "metadata": {},
     "output_type": "execute_result"
    }
   ],
   "source": [
    "df.describe()"
   ]
  },
  {
   "cell_type": "code",
   "execution_count": 5,
   "id": "37a40016",
   "metadata": {},
   "outputs": [
    {
     "name": "stdout",
     "output_type": "stream",
     "text": [
      "<class 'pandas.core.frame.DataFrame'>\n",
      "RangeIndex: 704 entries, 0 to 703\n",
      "Data columns (total 20 columns):\n",
      " #   Column                 Non-Null Count  Dtype  \n",
      "---  ------                 --------------  -----  \n",
      " 0   A1_Score               704 non-null    int64  \n",
      " 1   A2_Score               704 non-null    int64  \n",
      " 2   A3_Score               704 non-null    int64  \n",
      " 3   A4_Score               704 non-null    int64  \n",
      " 4   A5_Score               704 non-null    int64  \n",
      " 5   A6_Score               704 non-null    int64  \n",
      " 6   A7_Score               704 non-null    int64  \n",
      " 7   A8_Score               704 non-null    int64  \n",
      " 8   A9_Score               704 non-null    int64  \n",
      " 9   A10_Score              704 non-null    int64  \n",
      " 10  age                    702 non-null    float64\n",
      " 11  gender                 704 non-null    object \n",
      " 12  race                   704 non-null    object \n",
      " 13  born_with_jaundice     704 non-null    object \n",
      " 14  family_members_austim  704 non-null    object \n",
      " 15  country_of_res         704 non-null    object \n",
      " 16  used_app_before        704 non-null    object \n",
      " 17  scores                 704 non-null    int64  \n",
      " 18  relation               704 non-null    object \n",
      " 19  autism                 704 non-null    object \n",
      "dtypes: float64(1), int64(11), object(8)\n",
      "memory usage: 110.1+ KB\n"
     ]
    }
   ],
   "source": [
    "df.info()"
   ]
  },
  {
   "cell_type": "code",
   "execution_count": 6,
   "id": "7462fd7b",
   "metadata": {},
   "outputs": [
    {
     "data": {
      "text/plain": [
       "A1_Score                 0\n",
       "A2_Score                 0\n",
       "A3_Score                 0\n",
       "A4_Score                 0\n",
       "A5_Score                 0\n",
       "A6_Score                 0\n",
       "A7_Score                 0\n",
       "A8_Score                 0\n",
       "A9_Score                 0\n",
       "A10_Score                0\n",
       "age                      2\n",
       "gender                   0\n",
       "race                     0\n",
       "born_with_jaundice       0\n",
       "family_members_austim    0\n",
       "country_of_res           0\n",
       "used_app_before          0\n",
       "scores                   0\n",
       "relation                 0\n",
       "autism                   0\n",
       "dtype: int64"
      ]
     },
     "execution_count": 6,
     "metadata": {},
     "output_type": "execute_result"
    }
   ],
   "source": [
    "# Data Cleaning\n",
    "df.isnull().sum()"
   ]
  },
  {
   "cell_type": "code",
   "execution_count": 7,
   "id": "f0330359",
   "metadata": {},
   "outputs": [
    {
     "data": {
      "text/plain": [
       "(699, 20)"
      ]
     },
     "execution_count": 7,
     "metadata": {},
     "output_type": "execute_result"
    }
   ],
   "source": [
    "df=df.drop_duplicates()\n",
    "df.shape"
   ]
  },
  {
   "cell_type": "code",
   "execution_count": 8,
   "id": "92a2d715",
   "metadata": {},
   "outputs": [
    {
     "data": {
      "text/plain": [
       "21.0     49\n",
       "20.0     46\n",
       "23.0     37\n",
       "22.0     37\n",
       "19.0     35\n",
       "24.0     34\n",
       "27.0     31\n",
       "30.0     30\n",
       "18.0     29\n",
       "26.0     28\n",
       "29.0     27\n",
       "25.0     26\n",
       "28.0     24\n",
       "31.0     21\n",
       "17.0     18\n",
       "32.0     18\n",
       "35.0     17\n",
       "37.0     17\n",
       "33.0     16\n",
       "40.0     16\n",
       "42.0     15\n",
       "36.0     13\n",
       "38.0     12\n",
       "34.0     12\n",
       "43.0     11\n",
       "44.0      9\n",
       "39.0      7\n",
       "47.0      7\n",
       "53.0      6\n",
       "55.0      6\n",
       "46.0      6\n",
       "50.0      5\n",
       "52.0      5\n",
       "45.0      4\n",
       "48.0      4\n",
       "49.0      3\n",
       "41.0      3\n",
       "58.0      2\n",
       "54.0      2\n",
       "56.0      2\n",
       "61.0      2\n",
       "59.0      1\n",
       "64.0      1\n",
       "60.0      1\n",
       "383.0     1\n",
       "51.0      1\n",
       "Name: age, dtype: int64"
      ]
     },
     "execution_count": 8,
     "metadata": {},
     "output_type": "execute_result"
    }
   ],
   "source": [
    "df['age'].value_counts()"
   ]
  },
  {
   "cell_type": "code",
   "execution_count": 9,
   "id": "2eeccdb8",
   "metadata": {},
   "outputs": [],
   "source": [
    "df['age'].fillna(df['age'].mean(),inplace=True)"
   ]
  },
  {
   "cell_type": "code",
   "execution_count": 10,
   "id": "b7ddca31",
   "metadata": {},
   "outputs": [
    {
     "data": {
      "text/plain": [
       "m    363\n",
       "f    336\n",
       "Name: gender, dtype: int64"
      ]
     },
     "execution_count": 10,
     "metadata": {},
     "output_type": "execute_result"
    }
   ],
   "source": [
    "df['gender'].value_counts()"
   ]
  },
  {
   "cell_type": "code",
   "execution_count": 11,
   "id": "00abd697",
   "metadata": {},
   "outputs": [
    {
     "data": {
      "text/plain": [
       "White-European     230\n",
       "Asian              123\n",
       "?                   95\n",
       "Middle Eastern      90\n",
       "Black               43\n",
       "South Asian         36\n",
       "Others              30\n",
       "Latino              20\n",
       "Hispanic            13\n",
       "Pasifika            12\n",
       "Turkish              6\n",
       "others               1\n",
       "Name: race, dtype: int64"
      ]
     },
     "execution_count": 11,
     "metadata": {},
     "output_type": "execute_result"
    }
   ],
   "source": [
    "df['race'].value_counts()"
   ]
  },
  {
   "cell_type": "code",
   "execution_count": 12,
   "id": "c22f6a99",
   "metadata": {},
   "outputs": [],
   "source": [
    "df['race'].replace('?','0',inplace=True)"
   ]
  },
  {
   "cell_type": "code",
   "execution_count": 13,
   "id": "ba075a6c",
   "metadata": {},
   "outputs": [
    {
     "data": {
      "text/plain": [
       "White-European     230\n",
       "Asian              123\n",
       "0                   95\n",
       "Middle Eastern      90\n",
       "Black               43\n",
       "South Asian         36\n",
       "Others              30\n",
       "Latino              20\n",
       "Hispanic            13\n",
       "Pasifika            12\n",
       "Turkish              6\n",
       "others               1\n",
       "Name: race, dtype: int64"
      ]
     },
     "execution_count": 13,
     "metadata": {},
     "output_type": "execute_result"
    }
   ],
   "source": [
    "df['race'].value_counts()"
   ]
  },
  {
   "cell_type": "code",
   "execution_count": 14,
   "id": "be29a0f8",
   "metadata": {},
   "outputs": [
    {
     "data": {
      "text/plain": [
       "no     630\n",
       "yes     69\n",
       "Name: born_with_jaundice, dtype: int64"
      ]
     },
     "execution_count": 14,
     "metadata": {},
     "output_type": "execute_result"
    }
   ],
   "source": [
    "df['born_with_jaundice'].value_counts()"
   ]
  },
  {
   "cell_type": "code",
   "execution_count": 15,
   "id": "abb772cc",
   "metadata": {},
   "outputs": [
    {
     "data": {
      "text/plain": [
       "no     609\n",
       "yes     90\n",
       "Name: family_members_austim, dtype: int64"
      ]
     },
     "execution_count": 15,
     "metadata": {},
     "output_type": "execute_result"
    }
   ],
   "source": [
    "df['family_members_austim'].value_counts()"
   ]
  },
  {
   "cell_type": "code",
   "execution_count": 16,
   "id": "62f1df38",
   "metadata": {},
   "outputs": [
    {
     "data": {
      "text/plain": [
       "United States           111\n",
       "New Zealand              81\n",
       "India                    81\n",
       "United Arab Emirates     80\n",
       "United Kingdom           76\n",
       "                       ... \n",
       "China                     1\n",
       "Chile                     1\n",
       "Lebanon                   1\n",
       "Burundi                   1\n",
       "Cyprus                    1\n",
       "Name: country_of_res, Length: 67, dtype: int64"
      ]
     },
     "execution_count": 16,
     "metadata": {},
     "output_type": "execute_result"
    }
   ],
   "source": [
    "df['country_of_res'].value_counts()"
   ]
  },
  {
   "cell_type": "code",
   "execution_count": 17,
   "id": "8fefd95d",
   "metadata": {},
   "outputs": [
    {
     "data": {
      "text/plain": [
       "no     687\n",
       "yes     12\n",
       "Name: used_app_before, dtype: int64"
      ]
     },
     "execution_count": 17,
     "metadata": {},
     "output_type": "execute_result"
    }
   ],
   "source": [
    "df['used_app_before'].value_counts()"
   ]
  },
  {
   "cell_type": "code",
   "execution_count": 18,
   "id": "047b7ea0",
   "metadata": {},
   "outputs": [],
   "source": [
    "df['relation'].replace('?','Others',inplace=True)"
   ]
  },
  {
   "cell_type": "code",
   "execution_count": 19,
   "id": "a4445395",
   "metadata": {},
   "outputs": [
    {
     "data": {
      "text/plain": [
       "Self                        519\n",
       "Others                      100\n",
       "Parent                       50\n",
       "Relative                     26\n",
       "Health care professional      4\n",
       "Name: relation, dtype: int64"
      ]
     },
     "execution_count": 19,
     "metadata": {},
     "output_type": "execute_result"
    }
   ],
   "source": [
    "df['relation'].value_counts()"
   ]
  },
  {
   "cell_type": "code",
   "execution_count": 20,
   "id": "e01f9545",
   "metadata": {},
   "outputs": [
    {
     "data": {
      "text/plain": [
       "A1_Score                 0\n",
       "A2_Score                 0\n",
       "A3_Score                 0\n",
       "A4_Score                 0\n",
       "A5_Score                 0\n",
       "A6_Score                 0\n",
       "A7_Score                 0\n",
       "A8_Score                 0\n",
       "A9_Score                 0\n",
       "A10_Score                0\n",
       "age                      0\n",
       "gender                   0\n",
       "race                     0\n",
       "born_with_jaundice       0\n",
       "family_members_austim    0\n",
       "country_of_res           0\n",
       "used_app_before          0\n",
       "scores                   0\n",
       "relation                 0\n",
       "autism                   0\n",
       "dtype: int64"
      ]
     },
     "execution_count": 20,
     "metadata": {},
     "output_type": "execute_result"
    }
   ],
   "source": [
    "df.isnull().sum()"
   ]
  },
  {
   "cell_type": "code",
   "execution_count": 21,
   "id": "2119dc71",
   "metadata": {},
   "outputs": [],
   "source": [
    "# Converting Categorical data to Numerical data\n",
    "df['gender'].replace('m',1,inplace=True)\n",
    "df['gender'].replace('f',0,inplace=True)"
   ]
  },
  {
   "cell_type": "code",
   "execution_count": 22,
   "id": "ff731434",
   "metadata": {},
   "outputs": [],
   "source": [
    "df['born_with_jaundice'].replace('yes',1,inplace=True)\n",
    "df['born_with_jaundice'].replace('no',0,inplace=True)"
   ]
  },
  {
   "cell_type": "code",
   "execution_count": 23,
   "id": "e058afa9",
   "metadata": {},
   "outputs": [],
   "source": [
    "df['family_members_austim'].replace('yes',1,inplace=True)\n",
    "df['family_members_austim'].replace('no',0,inplace=True)"
   ]
  },
  {
   "cell_type": "code",
   "execution_count": 24,
   "id": "207da857",
   "metadata": {},
   "outputs": [],
   "source": [
    "df.used_app_before.replace((1,0),('yes','no'),inplace=True)\n",
    "df['used_app_before'].replace('yes',1,inplace=True)\n",
    "df['used_app_before'].replace('no',0,inplace=True)"
   ]
  },
  {
   "cell_type": "code",
   "execution_count": 25,
   "id": "ca84e89c",
   "metadata": {},
   "outputs": [],
   "source": [
    "relation={'Self':1,'Parent':2,'Health care professional':3,'Relative':4,'others':5,'Others':6}\n",
    "relation=[relation[item] for item in df.relation]\n",
    "df['relation'].replace('Self',1,inplace=True)\n",
    "df['relation'].replace('Parent',2,inplace=True)\n",
    "df['relation'].replace('Health care professional',3,inplace=True)\n",
    "df['relation'].replace('Relative',4,inplace=True)\n",
    "df['relation'].replace('others',5,inplace=True)\n",
    "df['relation'].replace('Others',6,inplace=True)"
   ]
  },
  {
   "cell_type": "code",
   "execution_count": 26,
   "id": "7b98f654",
   "metadata": {},
   "outputs": [],
   "source": [
    "df['autism'].replace('YES',1,inplace=True)\n",
    "df['autism'].replace('NO',0,inplace=True)"
   ]
  },
  {
   "cell_type": "code",
   "execution_count": 27,
   "id": "4040e2e1",
   "metadata": {},
   "outputs": [
    {
     "data": {
      "text/html": [
       "<div>\n",
       "<style scoped>\n",
       "    .dataframe tbody tr th:only-of-type {\n",
       "        vertical-align: middle;\n",
       "    }\n",
       "\n",
       "    .dataframe tbody tr th {\n",
       "        vertical-align: top;\n",
       "    }\n",
       "\n",
       "    .dataframe thead th {\n",
       "        text-align: right;\n",
       "    }\n",
       "</style>\n",
       "<table border=\"1\" class=\"dataframe\">\n",
       "  <thead>\n",
       "    <tr style=\"text-align: right;\">\n",
       "      <th></th>\n",
       "      <th>A1_Score</th>\n",
       "      <th>A2_Score</th>\n",
       "      <th>A3_Score</th>\n",
       "      <th>A4_Score</th>\n",
       "      <th>A5_Score</th>\n",
       "      <th>A6_Score</th>\n",
       "      <th>A7_Score</th>\n",
       "      <th>A8_Score</th>\n",
       "      <th>A9_Score</th>\n",
       "      <th>A10_Score</th>\n",
       "      <th>age</th>\n",
       "      <th>gender</th>\n",
       "      <th>race</th>\n",
       "      <th>born_with_jaundice</th>\n",
       "      <th>family_members_austim</th>\n",
       "      <th>country_of_res</th>\n",
       "      <th>used_app_before</th>\n",
       "      <th>scores</th>\n",
       "      <th>relation</th>\n",
       "      <th>autism</th>\n",
       "    </tr>\n",
       "  </thead>\n",
       "  <tbody>\n",
       "    <tr>\n",
       "      <th>0</th>\n",
       "      <td>1</td>\n",
       "      <td>1</td>\n",
       "      <td>1</td>\n",
       "      <td>1</td>\n",
       "      <td>0</td>\n",
       "      <td>0</td>\n",
       "      <td>1</td>\n",
       "      <td>1</td>\n",
       "      <td>0</td>\n",
       "      <td>0</td>\n",
       "      <td>26.0</td>\n",
       "      <td>0</td>\n",
       "      <td>White-European</td>\n",
       "      <td>0</td>\n",
       "      <td>0</td>\n",
       "      <td>United States</td>\n",
       "      <td>0</td>\n",
       "      <td>6</td>\n",
       "      <td>1</td>\n",
       "      <td>0</td>\n",
       "    </tr>\n",
       "    <tr>\n",
       "      <th>1</th>\n",
       "      <td>1</td>\n",
       "      <td>1</td>\n",
       "      <td>0</td>\n",
       "      <td>1</td>\n",
       "      <td>0</td>\n",
       "      <td>0</td>\n",
       "      <td>0</td>\n",
       "      <td>1</td>\n",
       "      <td>0</td>\n",
       "      <td>1</td>\n",
       "      <td>24.0</td>\n",
       "      <td>1</td>\n",
       "      <td>Latino</td>\n",
       "      <td>0</td>\n",
       "      <td>1</td>\n",
       "      <td>Brazil</td>\n",
       "      <td>0</td>\n",
       "      <td>5</td>\n",
       "      <td>1</td>\n",
       "      <td>0</td>\n",
       "    </tr>\n",
       "    <tr>\n",
       "      <th>2</th>\n",
       "      <td>1</td>\n",
       "      <td>1</td>\n",
       "      <td>0</td>\n",
       "      <td>1</td>\n",
       "      <td>1</td>\n",
       "      <td>0</td>\n",
       "      <td>1</td>\n",
       "      <td>1</td>\n",
       "      <td>1</td>\n",
       "      <td>1</td>\n",
       "      <td>27.0</td>\n",
       "      <td>1</td>\n",
       "      <td>Latino</td>\n",
       "      <td>1</td>\n",
       "      <td>1</td>\n",
       "      <td>Spain</td>\n",
       "      <td>0</td>\n",
       "      <td>8</td>\n",
       "      <td>2</td>\n",
       "      <td>1</td>\n",
       "    </tr>\n",
       "    <tr>\n",
       "      <th>3</th>\n",
       "      <td>1</td>\n",
       "      <td>1</td>\n",
       "      <td>0</td>\n",
       "      <td>1</td>\n",
       "      <td>0</td>\n",
       "      <td>0</td>\n",
       "      <td>1</td>\n",
       "      <td>1</td>\n",
       "      <td>0</td>\n",
       "      <td>1</td>\n",
       "      <td>35.0</td>\n",
       "      <td>0</td>\n",
       "      <td>White-European</td>\n",
       "      <td>0</td>\n",
       "      <td>1</td>\n",
       "      <td>United States</td>\n",
       "      <td>0</td>\n",
       "      <td>6</td>\n",
       "      <td>1</td>\n",
       "      <td>0</td>\n",
       "    </tr>\n",
       "    <tr>\n",
       "      <th>4</th>\n",
       "      <td>1</td>\n",
       "      <td>0</td>\n",
       "      <td>0</td>\n",
       "      <td>0</td>\n",
       "      <td>0</td>\n",
       "      <td>0</td>\n",
       "      <td>0</td>\n",
       "      <td>1</td>\n",
       "      <td>0</td>\n",
       "      <td>0</td>\n",
       "      <td>40.0</td>\n",
       "      <td>0</td>\n",
       "      <td>0</td>\n",
       "      <td>0</td>\n",
       "      <td>0</td>\n",
       "      <td>Egypt</td>\n",
       "      <td>0</td>\n",
       "      <td>2</td>\n",
       "      <td>6</td>\n",
       "      <td>0</td>\n",
       "    </tr>\n",
       "  </tbody>\n",
       "</table>\n",
       "</div>"
      ],
      "text/plain": [
       "   A1_Score  A2_Score  A3_Score  A4_Score  A5_Score  A6_Score  A7_Score  \\\n",
       "0         1         1         1         1         0         0         1   \n",
       "1         1         1         0         1         0         0         0   \n",
       "2         1         1         0         1         1         0         1   \n",
       "3         1         1         0         1         0         0         1   \n",
       "4         1         0         0         0         0         0         0   \n",
       "\n",
       "   A8_Score  A9_Score  A10_Score   age  gender            race  \\\n",
       "0         1         0          0  26.0       0  White-European   \n",
       "1         1         0          1  24.0       1          Latino   \n",
       "2         1         1          1  27.0       1          Latino   \n",
       "3         1         0          1  35.0       0  White-European   \n",
       "4         1         0          0  40.0       0               0   \n",
       "\n",
       "   born_with_jaundice  family_members_austim country_of_res  used_app_before  \\\n",
       "0                   0                      0  United States                0   \n",
       "1                   0                      1         Brazil                0   \n",
       "2                   1                      1          Spain                0   \n",
       "3                   0                      1  United States                0   \n",
       "4                   0                      0          Egypt                0   \n",
       "\n",
       "   scores  relation  autism  \n",
       "0       6         1       0  \n",
       "1       5         1       0  \n",
       "2       8         2       1  \n",
       "3       6         1       0  \n",
       "4       2         6       0  "
      ]
     },
     "execution_count": 27,
     "metadata": {},
     "output_type": "execute_result"
    }
   ],
   "source": [
    "df.head()"
   ]
  },
  {
   "cell_type": "code",
   "execution_count": 28,
   "id": "3183b8e9",
   "metadata": {},
   "outputs": [
    {
     "name": "stdout",
     "output_type": "stream",
     "text": [
      "      age  gender  born_with_jaundice  family_members_austim  used_app_before  \\\n",
      "0    26.0       0                   0                      0                0   \n",
      "1    24.0       1                   0                      1                0   \n",
      "2    27.0       1                   1                      1                0   \n",
      "3    35.0       0                   0                      1                0   \n",
      "4    40.0       0                   0                      0                0   \n",
      "..    ...     ...                 ...                    ...              ...   \n",
      "699  25.0       0                   0                      0                0   \n",
      "700  34.0       1                   0                      0                0   \n",
      "701  24.0       0                   0                      0                0   \n",
      "702  35.0       1                   0                      0                0   \n",
      "703  26.0       0                   0                      0                0   \n",
      "\n",
      "     relation  A1_Score  A2_Score  A3_Score  A4_Score  A5_Score  A6_Score  \\\n",
      "0           1         1         1         1         1         0         0   \n",
      "1           1         1         1         0         1         0         0   \n",
      "2           2         1         1         0         1         1         0   \n",
      "3           1         1         1         0         1         0         0   \n",
      "4           6         1         0         0         0         0         0   \n",
      "..        ...       ...       ...       ...       ...       ...       ...   \n",
      "699         1         0         1         0         1         1         0   \n",
      "700         2         1         0         0         0         0         0   \n",
      "701         6         1         0         1         1         1         0   \n",
      "702         1         1         0         0         1         1         0   \n",
      "703         1         1         0         1         1         1         0   \n",
      "\n",
      "     A7_Score  A8_Score  A9_Score  A10_Score  \n",
      "0           1         1         0          0  \n",
      "1           0         1         0          1  \n",
      "2           1         1         1          1  \n",
      "3           1         1         0          1  \n",
      "4           0         1         0          0  \n",
      "..        ...       ...       ...        ...  \n",
      "699         1         1         1          1  \n",
      "700         0         1         0          1  \n",
      "701         1         1         0          1  \n",
      "702         1         0         1          1  \n",
      "703         1         1         1          1  \n",
      "\n",
      "[699 rows x 16 columns]\n"
     ]
    }
   ],
   "source": [
    "# Feature Selection\n",
    "x=df[['age','gender','born_with_jaundice','family_members_austim','used_app_before','relation','A1_Score','A2_Score','A3_Score','A4_Score','A5_Score','A6_Score','A7_Score','A8_Score','A9_Score','A10_Score']]\n",
    "print(x)"
   ]
  },
  {
   "cell_type": "code",
   "execution_count": 29,
   "id": "1ab4ead2",
   "metadata": {},
   "outputs": [
    {
     "name": "stdout",
     "output_type": "stream",
     "text": [
      "0      0\n",
      "1      0\n",
      "2      1\n",
      "3      0\n",
      "4      0\n",
      "      ..\n",
      "699    1\n",
      "700    0\n",
      "701    1\n",
      "702    0\n",
      "703    1\n",
      "Name: autism, Length: 699, dtype: int64\n"
     ]
    }
   ],
   "source": [
    "y=df.autism\n",
    "print(y)"
   ]
  },
  {
   "cell_type": "code",
   "execution_count": 30,
   "id": "71084b96",
   "metadata": {},
   "outputs": [],
   "source": [
    "# Feature Extraction\n",
    "from sklearn.model_selection import train_test_split\n",
    "x_train,x_test,y_train,y_test=train_test_split(x,y,test_size=0.25,random_state=10)"
   ]
  },
  {
   "cell_type": "code",
   "execution_count": 31,
   "id": "f24ec72c",
   "metadata": {},
   "outputs": [
    {
     "name": "stdout",
     "output_type": "stream",
     "text": [
      "(524, 16) (175, 16) (524,) (175,)\n"
     ]
    }
   ],
   "source": [
    "print(x_train.shape,x_test.shape,y_train.shape,y_test.shape)"
   ]
  },
  {
   "cell_type": "code",
   "execution_count": 32,
   "id": "ce665d81",
   "metadata": {},
   "outputs": [],
   "source": [
    "from sklearn import metrics"
   ]
  },
  {
   "cell_type": "code",
   "execution_count": 33,
   "id": "f2356f4f",
   "metadata": {
    "scrolled": true
   },
   "outputs": [
    {
     "name": "stdout",
     "output_type": "stream",
     "text": [
      "Accuracy of Logistic Regression Algorithm is 100.00%\n"
     ]
    },
    {
     "name": "stderr",
     "output_type": "stream",
     "text": [
      "C:\\Users\\91901\\AppData\\Roaming\\Python\\Python310\\site-packages\\sklearn\\linear_model\\_logistic.py:458: ConvergenceWarning: lbfgs failed to converge (status=1):\n",
      "STOP: TOTAL NO. of ITERATIONS REACHED LIMIT.\n",
      "\n",
      "Increase the number of iterations (max_iter) or scale the data as shown in:\n",
      "    https://scikit-learn.org/stable/modules/preprocessing.html\n",
      "Please also refer to the documentation for alternative solver options:\n",
      "    https://scikit-learn.org/stable/modules/linear_model.html#logistic-regression\n",
      "  n_iter_i = _check_optimize_result(\n"
     ]
    }
   ],
   "source": [
    "# Training and Testing using Logistic Regression Algorithm\n",
    "from sklearn.linear_model import LogisticRegression\n",
    "model1=LogisticRegression()\n",
    "model1.fit(x_train,y_train)\n",
    "y_pred1=model1.predict(x_test)\n",
    "acc1=metrics.accuracy_score(y_test,y_pred1)\n",
    "print('Accuracy of Logistic Regression Algorithm is {:.2f}%'.format(acc1*100))"
   ]
  },
  {
   "cell_type": "code",
   "execution_count": 34,
   "id": "31905ff0",
   "metadata": {},
   "outputs": [
    {
     "name": "stdout",
     "output_type": "stream",
     "text": [
      "Accuracy of Random Forest Classifier Algorithm is 98.86%\n"
     ]
    }
   ],
   "source": [
    "# Training and Testing using Random Forest Classifier Algorithm\n",
    "from sklearn.ensemble import RandomForestClassifier\n",
    "model2=RandomForestClassifier()\n",
    "model2.fit(x_train,y_train)\n",
    "y_pred2=model2.predict(x_test)\n",
    "acc2=metrics.accuracy_score(y_test,y_pred2)\n",
    "print('Accuracy of Random Forest Classifier Algorithm is {:.2f}%'.format(acc2*100))"
   ]
  },
  {
   "cell_type": "code",
   "execution_count": 35,
   "id": "b2f975a9",
   "metadata": {},
   "outputs": [
    {
     "name": "stdout",
     "output_type": "stream",
     "text": [
      "Accuracy of KNeighbors Classifier Algorithm is 89.71%\n"
     ]
    }
   ],
   "source": [
    "# Training and Testing using KNeighbors Classifier Algorithm\n",
    "from sklearn.neighbors import KNeighborsClassifier\n",
    "model3=KNeighborsClassifier()\n",
    "model3.fit(x_train,y_train)\n",
    "y_pred3=model3.predict(x_test)\n",
    "acc3=metrics.accuracy_score(y_test,y_pred3)\n",
    "print('Accuracy of KNeighbors Classifier Algorithm is {:.2f}%'.format(acc3*100))"
   ]
  },
  {
   "cell_type": "code",
   "execution_count": 36,
   "id": "d35cc9c4",
   "metadata": {},
   "outputs": [
    {
     "name": "stdout",
     "output_type": "stream",
     "text": [
      "Accuracy of GaussianNB Algorithm is 97.14%\n"
     ]
    }
   ],
   "source": [
    "# Training and Testing using GaussianNB Algorithm\n",
    "from sklearn.naive_bayes import GaussianNB\n",
    "model4=GaussianNB()\n",
    "model4.fit(x_train,y_train)\n",
    "y_pred4=model4.predict(x_test)\n",
    "acc4=metrics.accuracy_score(y_test,y_pred4)\n",
    "print('Accuracy of GaussianNB Algorithm is {:.2f}%'.format(acc4*100))"
   ]
  },
  {
   "cell_type": "code",
   "execution_count": 37,
   "id": "0e1a1a87",
   "metadata": {},
   "outputs": [
    {
     "name": "stdout",
     "output_type": "stream",
     "text": [
      "Accuracy of Decision Tree Classifier Algorithm is 93.71%\n"
     ]
    }
   ],
   "source": [
    "# Training and Testing using Decision Tree Classifier Algorithm\n",
    "from sklearn.tree import DecisionTreeClassifier\n",
    "model5=DecisionTreeClassifier()\n",
    "model5.fit(x_train,y_train)\n",
    "y_pred5=model5.predict(x_test)\n",
    "acc5=metrics.accuracy_score(y_test,y_pred5)\n",
    "print('Accuracy of Decision Tree Classifier Algorithm is {:.2f}%'.format(acc5*100))"
   ]
  },
  {
   "cell_type": "code",
   "execution_count": 38,
   "id": "b75f7679",
   "metadata": {},
   "outputs": [
    {
     "name": "stdout",
     "output_type": "stream",
     "text": [
      "[[135   0]\n",
      " [  0  40]]\n",
      "              precision    recall  f1-score   support\n",
      "\n",
      "           0       1.00      1.00      1.00       135\n",
      "           1       1.00      1.00      1.00        40\n",
      "\n",
      "    accuracy                           1.00       175\n",
      "   macro avg       1.00      1.00      1.00       175\n",
      "weighted avg       1.00      1.00      1.00       175\n",
      "\n"
     ]
    }
   ],
   "source": [
    "# Evaluating the performance of the model\n",
    "cm=metrics.confusion_matrix(y_test,y_pred1)\n",
    "print(cm)\n",
    "print(metrics.classification_report(y_test,y_pred1))"
   ]
  },
  {
   "cell_type": "code",
   "execution_count": null,
   "id": "23955011",
   "metadata": {},
   "outputs": [],
   "source": []
  }
 ],
 "metadata": {
  "kernelspec": {
   "display_name": "Python 3 (ipykernel)",
   "language": "python",
   "name": "python3"
  },
  "language_info": {
   "codemirror_mode": {
    "name": "ipython",
    "version": 3
   },
   "file_extension": ".py",
   "mimetype": "text/x-python",
   "name": "python",
   "nbconvert_exporter": "python",
   "pygments_lexer": "ipython3",
   "version": "3.10.9"
  }
 },
 "nbformat": 4,
 "nbformat_minor": 5
}
